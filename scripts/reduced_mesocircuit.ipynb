{
 "cells": [
  {
   "cell_type": "code",
   "execution_count": null,
   "metadata": {},
   "outputs": [],
   "source": [
    "%matplotlib inline"
   ]
  },
  {
   "cell_type": "code",
   "execution_count": null,
   "metadata": {},
   "outputs": [],
   "source": [
    "%matplotlib inline\n",
    "import matplotlib.pyplot as plt\n",
    "import nest\n",
    "import numpy as np"
   ]
  },
  {
   "cell_type": "code",
   "execution_count": null,
   "metadata": {},
   "outputs": [],
   "source": [
    "# simulation parameters\n",
    "T = 1000.                  # simulation time (ms)\n",
    "dt = 0.1                   # simulation resolution (ms)\n",
    "\n",
    "# network parameters\n",
    "N_L5E = 4850               # number of neurons in L5E\n",
    "N_L5I = 1065               # number of neurons in L5I\n",
    "    \n",
    "Nsyn_L5E_L5E = 2038173     # number of synapses with presynaptic neuron (pre) in L5E and postsynaptic neuron (post) in L5E \n",
    "Nsyn_L5E_L5I = 319602      # number of synapses with pre in L5E and post in L5I\n",
    "Nsyn_L5I_L5I = 430775      # number of synapses with pre in L5I and post in L5I\n",
    "Nsyn_L5I_L5E = 2411184     # number of synapses with pre in L5I and post in L5E\n",
    "\n",
    "K_L5E_ext = 2000           # indegree of excitatory neurons to external poisson drive\n",
    "K_L5I_ext = 1900           # indegree of inhibitory neurons to external poisson drive\n",
    "\n",
    "# neuron parameters\n",
    "neuron_params = {\n",
    "    'C_m'       : 250.,    # pF\n",
    "    'I_e'       : 0.0,     # nA\n",
    "    'tau_m'     : 10.0,    # ms\n",
    "    't_ref'     : 2.0,     # ms\n",
    "    'tau_syn_ex': 0.5,     # ms\n",
    "    'tau_syn_in': 0.5,     # ms\n",
    "    'V_reset'   : -65.0,   # mV\n",
    "    'E_L'       : -65.0,   # mV\n",
    "    'V_th'      : -50.0    # mV\n",
    "}\n",
    "\n",
    "# synapse parameters\n",
    "w = 87.8                   # mean excitatory weight (pA)\n",
    "sigma_w = 8.8              # standard deviation of excitatory weight (pA)\n",
    "g = -4.                    # relative inhibitory weight \n",
    "\n",
    "de = 1.5                   # mean spike transmission delay for excitatory presynaptic neurons (ms)\n",
    "sigma_de = 0.75            # standard deviation \n",
    "di = 0.8                   # mean spike transmission delay for inhibitory presynaptic neurons (ms)\n",
    "sigma_di = 0.4             # standard deviation\n",
    " \n",
    "# input parameters\n",
    "bg_rate = 8.               # external poisson rate\n",
    "perturbation = False"
   ]
  },
  {
   "cell_type": "code",
   "execution_count": null,
   "metadata": {},
   "outputs": [],
   "source": [
    "nest.ResetKernel()\n",
    "nest.SetKernelStatus({'resolution': dt})      # set simulation resolution"
   ]
  },
  {
   "cell_type": "code",
   "execution_count": null,
   "metadata": {},
   "outputs": [],
   "source": [
    "# create excitatory and inhibitory neuron populations\n",
    "pop_L5E = nest.Create('iaf_psc_exp', N_L5E)\n",
    "nest.SetStatus(pop_L5E, params=neuron_params)\n",
    "\n",
    "pop_L5I = nest.Create('iaf_psc_exp', N_L5I, params=neuron_params)"
   ]
  },
  {
   "cell_type": "code",
   "execution_count": null,
   "metadata": {},
   "outputs": [],
   "source": [
    "# excitatory connections (connections from L5E)\n",
    "\n",
    "# specifying the synapse parameters\n",
    "syn_dict = {\n",
    "    'synapse_model': 'static_synapse',\n",
    "    'weight': nest.math.redraw(\n",
    "        nest.random.normal(\n",
    "            mean=w,\n",
    "            std=sigma_w),\n",
    "        min=0,\n",
    "        max=np.Inf),\n",
    "    'delay': nest.math.redraw(\n",
    "                nest.random.normal(\n",
    "            mean=de,\n",
    "            std=sigma_de),\n",
    "        min=nest.resolution, # TODO\n",
    "        max=np.Inf)\n",
    "}\n",
    "\n",
    "# connections to L5E\n",
    "# specifying the connection parameters\n",
    "conn_dict = {'rule': 'fixed_total_number', 'N': Nsyn_L5E_L5E}\n",
    "nest.Connect(pop_L5E, pop_L5E, conn_dict, syn_dict)\n",
    "\n",
    "# connections to L5I\n",
    "conn_dict = {'rule': 'fixed_total_number', 'N': Nsyn_L5E_L5I}\n",
    "nest.Connect(pop_L5E, pop_L5I, conn_dict, syn_dict)"
   ]
  },
  {
   "cell_type": "code",
   "execution_count": null,
   "metadata": {},
   "outputs": [],
   "source": [
    "\n",
    "# inhibitory connections (connections from L5I)\n",
    "\n",
    "# specifying the synapse parameters\n",
    "syn_dict = {\n",
    "    'synapse_model': 'static_synapse',\n",
    "    'weight': nest.math.redraw(\n",
    "        nest.random.normal(\n",
    "            mean=g*w,\n",
    "            std=np.abs(g*sigma_w)),\n",
    "        min=-np.Inf,\n",
    "        max=0),\n",
    "    'delay': nest.math.redraw(\n",
    "                nest.random.normal(\n",
    "            mean=di,\n",
    "            std=sigma_di),\n",
    "        min=nest.resolution, # TODO\n",
    "        max=np.Inf)\n",
    "}\n",
    "\n",
    "# connections to L5E\n",
    "# specifying the connection parameters\n",
    "conn_dict = {'rule': 'fixed_total_number', 'N': Nsyn_L5I_L5E}\n",
    "nest.Connect(pop_L5I, pop_L5E, conn_dict, syn_dict)\n",
    "\n",
    "# connections to L5I\n",
    "conn_dict = {'rule': 'fixed_total_number', 'N': Nsyn_L5I_L5I}\n",
    "nest.Connect(pop_L5I, pop_L5I, conn_dict, syn_dict)\n",
    "     "
   ]
  },
  {
   "cell_type": "code",
   "execution_count": null,
   "metadata": {},
   "outputs": [],
   "source": [
    "# connections with external poisson generator\n",
    "\n",
    "# connections to L5E\n",
    "poisson_generator_L5E = nest.Create('poisson_generator',\n",
    "                                    params={'rate': bg_rate*K_L5E_ext})\n",
    "nest.Connect(poisson_generator_L5E, pop_L5E, 'all_to_all', {'weight': w, 'delay': de})\n",
    "\n",
    "# connections to L5I\n",
    "poisson_generator_L5I = nest.Create('poisson_generator',\n",
    "                                    params={'rate': bg_rate*K_L5I_ext})\n",
    "nest.Connect(poisson_generator_L5I, pop_L5I, 'all_to_all', {'weight': w, 'delay': de})"
   ]
  },
  {
   "cell_type": "code",
   "execution_count": null,
   "metadata": {},
   "outputs": [],
   "source": [
    "# set up and connect spike detector\n",
    "sd_L5E = nest.Create('spike_recorder')\n",
    "nest.Connect(pop_L5E, sd_L5E, 'all_to_all')\n",
    "\n",
    "sd_L5I = nest.Create('spike_recorder')\n",
    "nest.Connect(pop_L5I, sd_L5I, 'all_to_all')"
   ]
  },
  {
   "cell_type": "code",
   "execution_count": null,
   "metadata": {},
   "outputs": [],
   "source": [
    "# run simulation\n",
    "nest.Simulate(T)    "
   ]
  },
  {
   "cell_type": "code",
   "execution_count": null,
   "metadata": {},
   "outputs": [],
   "source": [
    "# read out recorded spikes\n",
    "spike_senders_L5E = nest.GetStatus(sd_L5E)[0]['events']['senders']\n",
    "spike_times_L5E = nest.GetStatus(sd_L5E)[0]['events']['times']\n",
    "spike_senders_L5I = nest.GetStatus(sd_L5I)[0]['events']['senders']\n",
    "spike_times_L5I = nest.GetStatus(sd_L5I)[0]['events']['times']\n",
    "\n",
    "spike_senders = np.hstack((spike_senders_L5E, spike_senders_L5I))\n",
    "spike_times = np.hstack((spike_times_L5E, spike_times_L5I))"
   ]
  },
  {
   "cell_type": "code",
   "execution_count": null,
   "metadata": {},
   "outputs": [],
   "source": [
    "# plotting\n",
    "plt.plot(spike_times, spike_senders, 'k.', markersize=1)\n",
    "plt.xlim(0, T)\n",
    "plt.ylim(0, N_L5E+N_L5I)\n",
    "plt.xlabel('time (ms)')\n",
    "plt.ylabel('neuron id')"
   ]
  },
  {
   "cell_type": "code",
   "execution_count": null,
   "metadata": {},
   "outputs": [],
   "source": []
  }
 ],
 "metadata": {
  "kernelspec": {
   "display_name": "mesocircuit",
   "language": "python",
   "name": "python3"
  },
  "language_info": {
   "codemirror_mode": {
    "name": "ipython",
    "version": 3
   },
   "file_extension": ".py",
   "mimetype": "text/x-python",
   "name": "python",
   "nbconvert_exporter": "python",
   "pygments_lexer": "ipython3",
   "version": "3.10.6"
  },
  "orig_nbformat": 4
 },
 "nbformat": 4,
 "nbformat_minor": 2
}
