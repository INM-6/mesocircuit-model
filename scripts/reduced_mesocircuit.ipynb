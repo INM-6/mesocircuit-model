{
 "cells": [
  {
   "cell_type": "code",
   "execution_count": null,
   "metadata": {},
   "outputs": [],
   "source": [
    "%matplotlib inline\n",
    "import numpy as np\n",
    "import matplotlib.pyplot as plt\n",
    "import nest\n",
    "import parametersets\n",
    "from mesocircuit import mesocircuit_framework as mesoframe"
   ]
  },
  {
   "cell_type": "code",
   "execution_count": null,
   "metadata": {},
   "outputs": [],
   "source": [
    "# full-scale parameters\n",
    "name = 'mesocircuit_MAMV1'\n",
    "custom_params = parametersets.ps_dicts[name]\n",
    "meso_exp = mesoframe.MesocircuitExperiment(name, custom_params)"
   ]
  },
  {
   "cell_type": "code",
   "execution_count": null,
   "metadata": {},
   "outputs": [],
   "source": [
    "net_dict = meso_exp.circuits[0].net_dict"
   ]
  },
  {
   "cell_type": "code",
   "execution_count": null,
   "metadata": {},
   "outputs": [],
   "source": [
    "net_dict['num_neurons']"
   ]
  },
  {
   "cell_type": "code",
   "execution_count": null,
   "metadata": {},
   "outputs": [],
   "source": [
    "net_dict['indegrees']"
   ]
  },
  {
   "cell_type": "code",
   "execution_count": null,
   "metadata": {},
   "outputs": [],
   "source": [
    "net_dict['ext_indegrees']"
   ]
  },
  {
   "cell_type": "code",
   "execution_count": null,
   "metadata": {},
   "outputs": [],
   "source": [
    "net_dict['bg_rate']"
   ]
  },
  {
   "cell_type": "code",
   "execution_count": null,
   "metadata": {},
   "outputs": [],
   "source": [
    "net_dict['weight_matrix_mean']"
   ]
  },
  {
   "cell_type": "code",
   "execution_count": null,
   "metadata": {},
   "outputs": [],
   "source": [
    "rates_meso = np.array([0.372, 1.413, 1.199, 2.823, 2.281, 3.763, 1.132, 3.515])\n",
    "frac_rates = rates_meso / net_dict['bg_rate']\n",
    "\n",
    "tau_syn_ex = net_dict['neuron_params']['tau_syn_ex']\n",
    "tau_syn_in = net_dict['neuron_params']['tau_syn_in']\n",
    "tau_syn_default = net_dict['neuron_params']['tau_syn_default']\n",
    "tau_syn = np.array([[tau_syn_ex/tau_syn_default, tau_syn_in/tau_syn_default] for i in np.arange(4)]).flatten()\n",
    "\n",
    "weight_tau_syn_ext = net_dict['weight_ext'] * tau_syn_ex / tau_syn_default\n",
    "\n",
    "# recurrent input from layers L23, L4, and L5\n",
    "K_ext_L6E_L6I = []\n",
    "# to L6E (population 6) and L6I (population 7)\n",
    "for popid in [6, 7]:\n",
    "    weights_tau_syn_rec = net_dict['full_weight_matrix_mean'][popid][:-1] * tau_syn\n",
    "    frac_weights_tau_syn = weights_tau_syn_rec / weight_tau_syn_ext\n",
    "\n",
    "    rec_input = frac_rates * frac_weights_tau_syn * net_dict['indegrees'][popid][:-1]\n",
    "    K_ext_L6E_L6I.append(net_dict['ext_indegrees'][popid] + np.sum(rec_input[:6]))\n",
    "\n",
    "K_ext_L6E = np.round(K_ext_L6E_L6I[0]).astype(int)\n",
    "K_ext_L6I = np.round(K_ext_L6E_L6I[1]).astype(int)\n",
    "\n",
    "print(net_dict['ext_indegrees'][6:])\n",
    "print(K_ext_L6E, K_ext_L6I)\n"
   ]
  },
  {
   "cell_type": "code",
   "execution_count": null,
   "metadata": {},
   "outputs": [],
   "source": [
    "# simulation parameters\n",
    "T = 1000.                  # simulation time (ms)\n",
    "dt = 0.1                   # simulation resolution (ms)\n",
    "\n",
    "N_scaling = 0.01\n",
    "K_scaling = 1.\n",
    "\n",
    "# network parameters\n",
    "N_L6E = int(net_dict['num_neurons'][6] * N_scaling) #4850               # number of neurons in L5E\n",
    "N_L6I = int(net_dict['num_neurons'][7] * N_scaling) #1065               # number of neurons in L5I\n",
    "    \n",
    "Ksyn_L6E_L6E = net_dict['indegrees'][6,6] #int(2038173 / N_L6E)     # number of synapses with presynaptic neuron (pre) in L5E and postsynaptic neuron (post) in L5E \n",
    "Ksyn_L6E_L6I = net_dict['indegrees'][7,6] #int(319602 / N_L6I)   # number of synapses with pre in L5E and post in L5I\n",
    "Ksyn_L6I_L6I = net_dict['indegrees'][7,7] #int(430775 / N_L6I)     # number of synapses with pre in L5I and post in L5I\n",
    "Ksyn_L6I_L6E = net_dict['indegrees'][6,7] #int(2411184 / N_L6E)     # number of synapses with pre in L5I and post in L5E\n",
    "\n",
    "K_L6E_ext = K_ext_L6E #2000           # indegree of excitatory neurons to external poisson drive\n",
    "K_L6I_ext = K_ext_L6I #1900           # indegree of inhibitory neurons to external poisson drive\n",
    "\n",
    "# neuron parameters\n",
    "neuron_params = {\n",
    "    'C_m'       : 250.,    # pF\n",
    "    'I_e'       : 0.0,     # nA\n",
    "    'tau_m'     : 10.0,    # ms\n",
    "    't_ref'     : 2.0,     # ms\n",
    "    'tau_syn_ex': tau_syn_ex,     # ms\n",
    "    'tau_syn_in': tau_syn_in,     # ms\n",
    "    'V_reset'   : -65.0,   # mV\n",
    "    'E_L'       : -65.0,   # mV\n",
    "    'V_th'      : -50.0    # mV\n",
    "}\n",
    "\n",
    "# synapse parameters\n",
    "w = net_dict['weight_matrix_mean'][0,0] #87.8                   # mean excitatory weight (pA)\n",
    "sigma_w = net_dict['weight_matrix_mean'][0,0] * net_dict['weight_rel_std']#8.8              # standard deviation of excitatory weight (pA)\n",
    "g = net_dict['weight_matrix_mean'][0,1] / net_dict['weight_matrix_mean'][0,0]#-4.                    # relative inhibitory weight \n",
    "\n",
    "de = 1.5                   # mean spike transmission delay for excitatory presynaptic neurons (ms)\n",
    "sigma_de = 0.75            # standard deviation \n",
    "di = 0.8                   # mean spike transmission delay for inhibitory presynaptic neurons (ms)\n",
    "sigma_di = 0.4             # standard deviation\n",
    " \n",
    "# input parameters\n",
    "bg_rate = 8.               # external poisson rate\n",
    "\n",
    "# space\n",
    "extent = net_dict['extent']\n",
    "beta_L6E_L6E = net_dict['beta'][6,6]\n",
    "beta_L6E_L6I = net_dict['beta'][7,6]\n",
    "beta_L6I_L6I = net_dict['beta'][7,7]\n",
    "beta_L6I_L6E = net_dict['beta'][6,7]\n",
    "mask_scaling = net_dict['mask_scaling']"
   ]
  },
  {
   "cell_type": "code",
   "execution_count": null,
   "metadata": {},
   "outputs": [],
   "source": [
    "net_dict['beta']"
   ]
  },
  {
   "cell_type": "code",
   "execution_count": null,
   "metadata": {},
   "outputs": [],
   "source": [
    "print(N_L6E, N_L6I)\n",
    "print(Ksyn_L6E_L6E, Ksyn_L6E_L6I, Ksyn_L6I_L6I, Ksyn_L6I_L6E)\n",
    "print(w, sigma_w, g)"
   ]
  },
  {
   "cell_type": "code",
   "execution_count": null,
   "metadata": {},
   "outputs": [],
   "source": [
    "nest.ResetKernel()\n",
    "nest.resolution = dt      # set simulation resolution"
   ]
  },
  {
   "cell_type": "code",
   "execution_count": null,
   "metadata": {},
   "outputs": [],
   "source": [
    "# random positions in 2D with periodic boundary conditions\n",
    "positions = nest.spatial.free(\n",
    "    pos=nest.random.uniform(min=-extent / 2.,\n",
    "                            max=extent / 2.),\n",
    "    edge_wrap=True,\n",
    "    extent=[extent, extent])"
   ]
  },
  {
   "cell_type": "code",
   "execution_count": null,
   "metadata": {},
   "outputs": [],
   "source": [
    "# create excitatory and inhibitory neuron populations\n",
    "pop_L6E = nest.Create('iaf_psc_exp', N_L6E, params=neuron_params, positions=positions)\n",
    "\n",
    "pop_L6I = nest.Create('iaf_psc_exp', N_L6I, params=neuron_params, positions=positions)"
   ]
  },
  {
   "cell_type": "code",
   "execution_count": null,
   "metadata": {},
   "outputs": [],
   "source": [
    "# excitatory connections (connections from L6E)\n",
    "\n",
    "# specifying the synapse parameters\n",
    "syn_dict = {\n",
    "    'synapse_model': 'static_synapse',\n",
    "    'weight': nest.math.redraw(\n",
    "        nest.random.normal(\n",
    "            mean=w,\n",
    "            std=sigma_w),\n",
    "        min=0,\n",
    "        max=np.Inf),\n",
    "    'delay': nest.math.redraw(\n",
    "                nest.random.normal(\n",
    "            mean=de,\n",
    "            std=sigma_de),\n",
    "        min=nest.resolution, # TODO\n",
    "        max=np.Inf)\n",
    "}\n",
    "\n",
    "# connections to L6E\n",
    "# specifying the connection parameters\n",
    "conn_dict = {'rule': 'fixed_indegree',\n",
    "             'indegree': Ksyn_L6E_L6E,\n",
    "             'p': nest.spatial_distributions.exponential(\n",
    "                x=nest.spatial.distance,\n",
    "                beta=beta_L6E_L6E),\n",
    "              'mask': {'circular': {\n",
    "                'radius': beta_L6E_L6E * mask_scaling}}}\n",
    "nest.Connect(pop_L6E, pop_L6E, conn_dict, syn_dict)\n",
    "\n",
    "# connections to L6I\n",
    "conn_dict = {'rule': 'fixed_indegree',\n",
    "             'indegree': Ksyn_L6E_L6I,\n",
    "             'p': nest.spatial_distributions.exponential(\n",
    "                x=nest.spatial.distance,\n",
    "                beta=beta_L6E_L6I),\n",
    "              'mask': {'circular': {\n",
    "                'radius': beta_L6E_L6I * mask_scaling}}}\n",
    "nest.Connect(pop_L6E, pop_L6I, conn_dict, syn_dict)"
   ]
  },
  {
   "cell_type": "code",
   "execution_count": null,
   "metadata": {},
   "outputs": [],
   "source": [
    "\n",
    "# inhibitory connections (connections from L6I)\n",
    "\n",
    "# specifying the synapse parameters\n",
    "syn_dict = {\n",
    "    'synapse_model': 'static_synapse',\n",
    "    'weight': nest.math.redraw(\n",
    "        nest.random.normal(\n",
    "            mean=g*w,\n",
    "            std=np.abs(g*sigma_w)),\n",
    "        min=-np.Inf,\n",
    "        max=0),\n",
    "    'delay': nest.math.redraw(\n",
    "                nest.random.normal(\n",
    "            mean=di,\n",
    "            std=sigma_di),\n",
    "        min=nest.resolution, # TODO\n",
    "        max=np.Inf)\n",
    "}\n",
    "\n",
    "# connections to L6E\n",
    "# specifying the connection parameters\n",
    "conn_dict = {'rule': 'fixed_indegree',\n",
    "             'indegree': Ksyn_L6I_L6E,\n",
    "             'p': nest.spatial_distributions.exponential(\n",
    "                x=nest.spatial.distance,\n",
    "                beta=beta_L6I_L6E),\n",
    "              'mask': {'circular': {\n",
    "                'radius': beta_L6I_L6E * mask_scaling}}}\n",
    "nest.Connect(pop_L6I, pop_L6E, conn_dict, syn_dict)\n",
    "\n",
    "# connections to L6I\n",
    "conn_dict = {'rule': 'fixed_indegree',\n",
    "             'indegree': Ksyn_L6I_L6I,\n",
    "             'p': nest.spatial_distributions.exponential(\n",
    "                x=nest.spatial.distance,\n",
    "                beta=beta_L6I_L6I),\n",
    "              'mask': {'circular': {\n",
    "                'radius': beta_L6I_L6I * mask_scaling}}}\n",
    "nest.Connect(pop_L6I, pop_L6I, conn_dict, syn_dict)\n",
    "     "
   ]
  },
  {
   "cell_type": "code",
   "execution_count": null,
   "metadata": {},
   "outputs": [],
   "source": [
    "# connections with external poisson generator\n",
    "\n",
    "# connections to L6E\n",
    "poisson_generator_L6E = nest.Create('poisson_generator',\n",
    "                                    params={'rate': bg_rate*K_L6E_ext})\n",
    "nest.Connect(poisson_generator_L6E, pop_L6E, 'all_to_all', {'weight': w, 'delay': de})\n",
    "\n",
    "# connections to L6I\n",
    "poisson_generator_L6I = nest.Create('poisson_generator',\n",
    "                                    params={'rate': bg_rate*K_L6I_ext})\n",
    "nest.Connect(poisson_generator_L6I, pop_L6I, 'all_to_all', {'weight': w, 'delay': de})"
   ]
  },
  {
   "cell_type": "code",
   "execution_count": null,
   "metadata": {},
   "outputs": [],
   "source": [
    "# set up and connect spike detector\n",
    "sd_L6E = nest.Create('spike_recorder')\n",
    "nest.Connect(pop_L6E, sd_L6E, 'all_to_all')\n",
    "\n",
    "sd_L6I = nest.Create('spike_recorder')\n",
    "nest.Connect(pop_L6I, sd_L6I, 'all_to_all')"
   ]
  },
  {
   "cell_type": "code",
   "execution_count": null,
   "metadata": {},
   "outputs": [],
   "source": [
    "# run simulation\n",
    "nest.Simulate(T)    "
   ]
  },
  {
   "cell_type": "code",
   "execution_count": null,
   "metadata": {},
   "outputs": [],
   "source": [
    "# read out recorded spikes\n",
    "spike_senders_L6E = nest.GetStatus(sd_L6E)[0]['events']['senders']\n",
    "spike_times_L6E = nest.GetStatus(sd_L6E)[0]['events']['times']\n",
    "spike_senders_L6I = nest.GetStatus(sd_L6I)[0]['events']['senders']\n",
    "spike_times_L6I = nest.GetStatus(sd_L6I)[0]['events']['times']\n",
    "\n",
    "spike_senders = np.hstack((spike_senders_L6E, spike_senders_L6I))\n",
    "spike_times = np.hstack((spike_times_L6E, spike_times_L6I))"
   ]
  },
  {
   "cell_type": "code",
   "execution_count": null,
   "metadata": {},
   "outputs": [],
   "source": [
    "# plotting\n",
    "plt.plot(spike_times, spike_senders, 'k.', markersize=1)\n",
    "plt.xlim(0, T)\n",
    "plt.ylim(0, N_L6E+N_L6I)\n",
    "plt.xlabel('time (ms)')\n",
    "plt.ylabel('neuron id')"
   ]
  },
  {
   "cell_type": "code",
   "execution_count": null,
   "metadata": {},
   "outputs": [],
   "source": [
    "# compute average firing rate\n",
    "rate_E = nest.GetStatus(sd_L6E)[0]['n_events']/T*1e3/N_L6E\n",
    "print(f'Firing rate E = {rate_E:.2f} spikes/s')\n",
    "\n",
    "rate_I = nest.GetStatus(sd_L6I)[0]['n_events']/T*1e3/N_L6I\n",
    "print(f'Firing rate I = {rate_I:.2f} spikes/s')\n",
    "     \n"
   ]
  },
  {
   "cell_type": "code",
   "execution_count": null,
   "metadata": {},
   "outputs": [],
   "source": []
  }
 ],
 "metadata": {
  "kernelspec": {
   "display_name": "mesocircuit",
   "language": "python",
   "name": "python3"
  },
  "language_info": {
   "codemirror_mode": {
    "name": "ipython",
    "version": 3
   },
   "file_extension": ".py",
   "mimetype": "text/x-python",
   "name": "python",
   "nbconvert_exporter": "python",
   "pygments_lexer": "ipython3",
   "version": "3.10.6"
  },
  "orig_nbformat": 4
 },
 "nbformat": 4,
 "nbformat_minor": 2
}
