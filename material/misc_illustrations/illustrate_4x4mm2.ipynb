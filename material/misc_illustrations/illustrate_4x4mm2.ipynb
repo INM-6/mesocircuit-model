{
 "cells": [
  {
   "cell_type": "code",
   "execution_count": null,
   "id": "ce6c6980-b47b-42ef-9b10-c6e1ba39375d",
   "metadata": {},
   "outputs": [],
   "source": [
    "%matplotlib widget"
   ]
  },
  {
   "cell_type": "code",
   "execution_count": null,
   "id": "202b3769-ca9a-42c1-be81-8ad5e699090a",
   "metadata": {},
   "outputs": [],
   "source": [
    "import matplotlib.pyplot as plt\n",
    "import numpy as np\n",
    "from mpl_toolkits.mplot3d import Axes3D\n",
    "from mpl_toolkits.mplot3d.art3d import Poly3DCollection"
   ]
  },
  {
   "cell_type": "code",
   "execution_count": null,
   "id": "491783f7-b39f-49df-b2b7-0322ee5dc060",
   "metadata": {},
   "outputs": [],
   "source": [
    "L = 4  # sidelength (mm)\n",
    "nlayers = 4\n",
    "popsperlayer = 2\n",
    "\n",
    "colors = ['C3', 'C0']\n",
    "\n",
    "fig = plt.figure(figsize=(4,4))\n",
    "\n",
    "ax = fig.add_subplot(111, projection='3d', computed_zorder=False)\n",
    "ax.axis('off')\n",
    "\n",
    "pop_colors = np.array(['#114477',   # L23E blue\n",
    "                       '#77AADD',   # L23I\n",
    "                       '#117744',   # L4E green\n",
    "                       '#88CCAA',   # L4I\n",
    "                       '#774411',   # L5E brown\n",
    "                       '#DDAA77',   # L5I\n",
    "                       '#771155',   # L6E pompadour\n",
    "                       '#CC99BB',   # L6I\n",
    "                       # '#696969' # TC  dimgrey\n",
    "                      ])  \n",
    "\n",
    "for i in range(nlayers):\n",
    "    for j in range(popsperlayer):\n",
    "        x = np.array([-1, 1, 1, -1]) * L / 2\n",
    "        y = np.array([-1, -1, 1, 1]) * L / 2\n",
    "        z = np.zeros(x.shape) + 4*i + (j-0.5)\n",
    "        vertices = [list(zip(x,y,z))]\n",
    "\n",
    "        poly = Poly3DCollection(vertices, alpha=0.5, color=pop_colors[::-1][i * 2 + j])\n",
    "\n",
    "        ax.add_collection3d(poly)\n",
    "\n",
    "        \n",
    "# countour representing connectivity\n",
    "dL = 0.1\n",
    "x = y = np.linspace(-L / 2, L / 2, int(L / dL + 1))\n",
    "X, Y = np.meshgrid(x, y)\n",
    "\n",
    "def Gauss2D(x, x_0, sigma_x, y, y_0, sigma_y):\n",
    "    return np.exp(-((x - x_0)**2 / sigma_x**2 / 2 + (y - y_0)**2 / sigma_y**2 / 2))\n",
    "\n",
    "Z = Gauss2D(X, 1, 0.3, Y, -1, 0.3)\n",
    "\n",
    "ax.contour(X, Y, Z, zdir='z', offset=4*i + (j-0.5)+0.1, levels=11, colors='k', linewidths=0.5, zorder=1)\n",
    "\n",
    "# 3d cone thing\n",
    "u = np.linspace(0, 2 * np.pi, 15)\n",
    "v = np.linspace(0, np.pi / 2, 2)\n",
    "x = 0.6 * np.outer(np.cos(u), np.sin(v)) + 1\n",
    "y = 0.6 * np.outer(np.sin(u), np.sin(v)) - 1\n",
    "z = -4 * np.outer(np.ones(np.size(u)), np.cos(v)) + 12.5\n",
    "\n",
    "ax.plot_wireframe(x, y, z, color='gray', zorder=0)\n",
    "\n",
    "\n",
    "ax.set_xlim(-L / 2, L / 2)\n",
    "ax.set_ylim(-L / 2, L / 2)\n",
    "ax.set_zlim(-1, 3 * nlayers + 1)\n",
    "\n",
    "ax.view_init(elev=15, azim=-61)"
   ]
  },
  {
   "cell_type": "code",
   "execution_count": null,
   "id": "dac7256a-6ab8-4a2a-b6f3-cb77ecb564f4",
   "metadata": {},
   "outputs": [],
   "source": []
  }
 ],
 "metadata": {
  "kernelspec": {
   "display_name": "Python 3 (ipykernel)",
   "language": "python",
   "name": "python3"
  },
  "language_info": {
   "codemirror_mode": {
    "name": "ipython",
    "version": 3
   },
   "file_extension": ".py",
   "mimetype": "text/x-python",
   "name": "python",
   "nbconvert_exporter": "python",
   "pygments_lexer": "ipython3",
   "version": "3.10.2"
  }
 },
 "nbformat": 4,
 "nbformat_minor": 5
}
